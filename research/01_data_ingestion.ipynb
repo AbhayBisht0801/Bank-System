{
 "cells": [
  {
   "cell_type": "code",
   "execution_count": 1,
   "metadata": {},
   "outputs": [
    {
     "data": {
      "text/plain": [
       "'c:\\\\Users\\\\bisht\\\\OneDrive\\\\Desktop\\\\Personal_project\\\\research'"
      ]
     },
     "execution_count": 1,
     "metadata": {},
     "output_type": "execute_result"
    }
   ],
   "source": [
    "import os\n",
    "%pwd"
   ]
  },
  {
   "cell_type": "code",
   "execution_count": 2,
   "metadata": {},
   "outputs": [],
   "source": [
    "os.chdir('../')"
   ]
  },
  {
   "cell_type": "code",
   "execution_count": 3,
   "metadata": {},
   "outputs": [
    {
     "data": {
      "text/plain": [
       "'c:\\\\Users\\\\bisht\\\\OneDrive\\\\Desktop\\\\Personal_project'"
      ]
     },
     "execution_count": 3,
     "metadata": {},
     "output_type": "execute_result"
    }
   ],
   "source": [
    "%pwd"
   ]
  },
  {
   "cell_type": "code",
   "execution_count": 4,
   "metadata": {},
   "outputs": [],
   "source": [
    "from dataclasses import dataclass\n",
    "from pathlib import Path\n",
    "@dataclass(frozen=True)\n",
    "class DataIngestionConfig:\n",
    "    root_dir:Path\n",
    "    source_URL:str\n",
    "    local_data_file:Path\n",
    "    unzip_dir:Path\n",
    "    transaction_dir:Path\n",
    "    credit_score_dir:Path\n",
    "    preprocess_dir:Path\n"
   ]
  },
  {
   "cell_type": "code",
   "execution_count": 5,
   "metadata": {},
   "outputs": [],
   "source": [
    "from src.Banking_System.constants import *\n",
    "from src.Banking_System.utils.common import read_yaml,create_directories\n"
   ]
  },
  {
   "cell_type": "code",
   "execution_count": 6,
   "metadata": {},
   "outputs": [],
   "source": [
    "class ConfigurationManager:\n",
    "    def __init__(\n",
    "            self,\n",
    "            config_filepath=CONFIG_FILE_PATH,\n",
    "            params_filepath=PARAMS_FILE_PATH\n",
    "    ):\n",
    "        self.config=read_yaml(config_filepath)\n",
    "        self.params=read_yaml(params_filepath)\n",
    "        create_directories([self.config.artifacts_root])\n",
    "    def get_data_ingestion_config(self)->DataIngestionConfig:\n",
    "        config=self.config.data_ingestion\n",
    "        create_directories([config.root_dir])\n",
    "        \n",
    "        data_ingestion_config=DataIngestionConfig(\n",
    "            root_dir=config.root_dir,\n",
    "            source_URL=config.source_URL,\n",
    "            local_data_file=config.local_data_file,\n",
    "            unzip_dir=config.unzip_dir,\n",
    "            transaction_dir=config.transaction_dir,\n",
    "            credit_score_dir=config.credit_score_dir,\n",
    "            preprocess_dir=config.preprocess_dir\n",
    "            \n",
    "            \n",
    "        )\n",
    "        return data_ingestion_config"
   ]
  },
  {
   "cell_type": "code",
   "execution_count": 7,
   "metadata": {},
   "outputs": [],
   "source": [
    "import os\n",
    "import urllib.request as request\n",
    "import zipfile\n",
    "import gdown\n",
    "from src.Banking_System import logger\n",
    "from src.Banking_System.utils.common import get_size,save_object\n",
    "import pandas as pd\n",
    "from sklearn.preprocessing import OrdinalEncoder,StandardScaler\n",
    "import pickle\n",
    "from sklearn.model_selection import train_test_split"
   ]
  },
  {
   "cell_type": "code",
   "execution_count": 8,
   "metadata": {},
   "outputs": [],
   "source": [
    "class DataIngestion:\n",
    "    def __init__(self, config: DataIngestionConfig):\n",
    "        self.config = config\n",
    "\n",
    "\n",
    "    \n",
    "     \n",
    "    def download_file(self)-> str:\n",
    "        '''\n",
    "        Fetch data from the url\n",
    "        '''\n",
    "\n",
    "        try: \n",
    "            dataset_url = self.config.source_URL\n",
    "            zip_download_dir = self.config.local_data_file\n",
    "            os.makedirs(\"artifacts/data_ingestion\", exist_ok=True)\n",
    "            logger.info(f\"Downloading data from {dataset_url} into file {zip_download_dir}\")\n",
    "\n",
    "            file_id = dataset_url.split(\"/\")[-2]\n",
    "            prefix = 'https://drive.google.com/uc?/export=download&id='\n",
    "            gdown.download(prefix+file_id,zip_download_dir)\n",
    "\n",
    "            logger.info(f\"Downloaded data from {dataset_url} into file {zip_download_dir}\")\n",
    "\n",
    "        except Exception as e:\n",
    "            raise e\n",
    "        \n",
    "    \n",
    "    def extract_zip_file(self):\n",
    "        \"\"\"\n",
    "        zip_file_path: str\n",
    "        Extracts the zip file into the data directory\n",
    "        Function returns None\n",
    "        \"\"\"\n",
    "        unzip_path = self.config.unzip_dir\n",
    "        os.makedirs(unzip_path, exist_ok=True)\n",
    "        with zipfile.ZipFile(self.config.local_data_file, 'r') as zip_ref:\n",
    "            zip_ref.extractall(unzip_path)\n",
    "    def data_preprocess(self):\n",
    "        create_directories([self.config.transaction_dir])\n",
    "        create_directories([self.config.credit_score_dir])\n",
    "        create_directories([self.config.preprocess_dir])\n",
    "        df=pd.read_csv(os.path.join(self.config.unzip_dir,'data\\Credit Score Classification Dataset.csv'))\n",
    "        df1=pd.read_csv(os.path.join(self.config.unzip_dir,'data\\PS_20174392719_1491204439457_log.csv'))\n",
    "        df_encoded=pd.get_dummies(df,columns=['Gender','Marital Status','Home Ownership'],drop_first=True)\n",
    "        oe = OrdinalEncoder(categories=[['High School Diploma', \"Associate's Degree\", \"Bachelor's Degree\", \"Master's Degree\", 'Doctorate']])\n",
    "        encoded = oe.fit_transform(df[['Education']])\n",
    "        encoded_df = pd.DataFrame(encoded, columns=['Encoded_Education'])\n",
    "        result_df = pd.concat([df_encoded, encoded_df], axis=1)\n",
    "        df2=df1[['amount','oldbalanceOrg', 'newbalanceOrig','isFraud']]\n",
    "        ss1=StandardScaler()\n",
    "        ss2=StandardScaler()\n",
    "        result_df[['Income','Age']]=ss1.fit_transform(result_df[['Income','Age']])\n",
    "        df2[['amount','oldbalanceOrg', 'newbalanceOrig']]=ss2.fit_transform(df2[['amount','oldbalanceOrg', 'newbalanceOrig']])\n",
    "        credit_train,credit_test=train_test_split(result_df,random_state=22,test_size=0.2)\n",
    "        transaction_train,transaction_test=train_test_split(result_df,random_state=22,test_size=0.2)\n",
    "        credit_train.to_csv(os.path.join(self.config.credit_score_dir,'credit_train.csv'))\n",
    "        credit_test.to_csv(os.path.join(self.config.credit_score_dir,'credit_test.csv'))\n",
    "        transaction_train.to_csv(os.path.join(self.config.transaction_dir,'transaction_train.csv'))\n",
    "        transaction_test.to_csv(os.path.join(self.config.transaction_dir,'transaction_test.csv'))\n",
    "        save_object(os.path.join(self.config.preprocess_dir,'creditscaler.pkl'),ss1)\n",
    "        save_object(os.path.join(self.config.preprocess_dir,'transactionscaler.pkl'),ss2)\n",
    "        logger.info(f\"PreProcessing Completed\")\n",
    "\n",
    "\n",
    "        \n",
    "\n"
   ]
  },
  {
   "cell_type": "code",
   "execution_count": 9,
   "metadata": {},
   "outputs": [
    {
     "name": "stdout",
     "output_type": "stream",
     "text": [
      "[2024-03-26 11:42:34,334: INFO: common: yaml file: config\\config.yaml loaded successfully]\n",
      "[2024-03-26 11:42:34,337: INFO: common: yaml file: params.yaml loaded successfully]\n",
      "[2024-03-26 11:42:34,338: INFO: common: created directory at: artifacts]\n",
      "[2024-03-26 11:42:34,339: INFO: common: created directory at: artifacts/data_ingestion]\n",
      "[2024-03-26 11:42:34,340: INFO: 3840643414: Downloading data from https://drive.google.com/file/d/1VvR9L9WoUiy5vrvBYIvDlrxfq9IbYe-4/view?usp=sharing into file artifacts/data_ingestion/data.zip]\n"
     ]
    },
    {
     "name": "stderr",
     "output_type": "stream",
     "text": [
      "Downloading...\n",
      "From (original): https://drive.google.com/uc?/export=download&id=1VvR9L9WoUiy5vrvBYIvDlrxfq9IbYe-4\n",
      "From (redirected): https://drive.google.com/uc?%2Fexport=download&id=1VvR9L9WoUiy5vrvBYIvDlrxfq9IbYe-4&confirm=t&uuid=b7b571cf-9e1f-4e19-9cb2-56274ee9b946\n",
      "To: c:\\Users\\bisht\\OneDrive\\Desktop\\Personal_project\\artifacts\\data_ingestion\\data.zip\n",
      "100%|██████████| 1.14G/1.14G [01:54<00:00, 9.95MB/s]\n"
     ]
    },
    {
     "name": "stdout",
     "output_type": "stream",
     "text": [
      "[2024-03-26 11:44:31,928: INFO: 3840643414: Downloaded data from https://drive.google.com/file/d/1VvR9L9WoUiy5vrvBYIvDlrxfq9IbYe-4/view?usp=sharing into file artifacts/data_ingestion/data.zip]\n",
      "[2024-03-26 11:44:45,400: INFO: common: created directory at: artifacts/data_ingestion/transaction_data]\n",
      "[2024-03-26 11:44:45,402: INFO: common: created directory at: artifacts/data_ingestion/credit_score_data]\n",
      "[2024-03-26 11:44:45,403: INFO: common: created directory at: artifacts/data_ingestion/preprocess]\n",
      "[2024-03-26 11:44:57,718: INFO: 3840643414: PreProcessing Completed]\n"
     ]
    },
    {
     "name": "stderr",
     "output_type": "stream",
     "text": [
      "C:\\Users\\bisht\\AppData\\Local\\Temp\\ipykernel_4356\\3840643414.py:54: SettingWithCopyWarning: \n",
      "A value is trying to be set on a copy of a slice from a DataFrame.\n",
      "Try using .loc[row_indexer,col_indexer] = value instead\n",
      "\n",
      "See the caveats in the documentation: https://pandas.pydata.org/pandas-docs/stable/user_guide/indexing.html#returning-a-view-versus-a-copy\n",
      "  df2[['amount','oldbalanceOrg', 'newbalanceOrig']]=ss2.fit_transform(df2[['amount','oldbalanceOrg', 'newbalanceOrig']])\n"
     ]
    }
   ],
   "source": [
    "try:\n",
    "    config=ConfigurationManager()\n",
    "    data_ingestion_config=config.get_data_ingestion_config()\n",
    "    data_ingestion=DataIngestion(config=data_ingestion_config)\n",
    "    data_ingestion.download_file()\n",
    "    data_ingestion.extract_zip_file()\n",
    "    data_ingestion.data_preprocess()\n",
    "except Exception as e:\n",
    "    raise e"
   ]
  },
  {
   "cell_type": "code",
   "execution_count": null,
   "metadata": {},
   "outputs": [],
   "source": []
  }
 ],
 "metadata": {
  "kernelspec": {
   "display_name": "venv",
   "language": "python",
   "name": "python3"
  },
  "language_info": {
   "codemirror_mode": {
    "name": "ipython",
    "version": 3
   },
   "file_extension": ".py",
   "mimetype": "text/x-python",
   "name": "python",
   "nbconvert_exporter": "python",
   "pygments_lexer": "ipython3",
   "version": "3.10.11"
  }
 },
 "nbformat": 4,
 "nbformat_minor": 2
}
