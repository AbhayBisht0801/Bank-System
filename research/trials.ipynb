{
 "cells": [
  {
   "cell_type": "code",
   "execution_count": 2,
   "metadata": {},
   "outputs": [],
   "source": [
    "import gdown"
   ]
  },
  {
   "cell_type": "code",
   "execution_count": 1,
   "metadata": {},
   "outputs": [],
   "source": [
    "url='https://drive.google.com/file/d/1VvR9L9WoUiy5vrvBYIvDlrxfq9IbYe-4/view?usp=sharing'"
   ]
  },
  {
   "cell_type": "code",
   "execution_count": 2,
   "metadata": {},
   "outputs": [],
   "source": [
    "file_id=url.split('/')[-2]"
   ]
  },
  {
   "cell_type": "code",
   "execution_count": 3,
   "metadata": {},
   "outputs": [
    {
     "data": {
      "text/plain": [
       "'1VvR9L9WoUiy5vrvBYIvDlrxfq9IbYe-4'"
      ]
     },
     "execution_count": 3,
     "metadata": {},
     "output_type": "execute_result"
    }
   ],
   "source": [
    "file_id"
   ]
  },
  {
   "cell_type": "code",
   "execution_count": 6,
   "metadata": {},
   "outputs": [],
   "source": [
    "prefix='http://drive.google.com/uc?/export=download&id='"
   ]
  },
  {
   "cell_type": "code",
   "execution_count": null,
   "metadata": {},
   "outputs": [],
   "source": [
    " flatten_in=tf.keras.layers.Flatten()(model.output)\n",
    "        dense1=tf.keras.layers.Dense(units=256,activation='relu')(flatten_in)\n",
    "        Normalization=tf.keras.layers.BatchNormalization()(dense1)\n",
    "        dense2=tf.keras.layers.Dense(units=128,activation='relu')(Normalization)\n",
    "        dropout=tf.keras.layers.Dropout(dropout_no)(dense2)\n",
    "        dense3=tf.keras.layers.Dense(units=64,activation='relu')(dropout)\n",
    "        dropout=tf.keras.layers.Dropout(dropout_no)(dense3)\n",
    "        dense4=tf.keras.layers.Dense(units=32,activation='relu')(dropout)\n",
    "        dropout=tf.keras.layers.Dropout(dropout_no)(dense4)\n",
    "        dense5=tf.keras.layers.Dense(units=16,activation='relu')(dropout)\n",
    "        prediction=tf.keras.layers.Dense(units=classes,activation='softmax')(dense5)\n",
    "        full_model=tf.keras.models.Model(\n",
    "            inputs=model.input,\n",
    "            outputs=prediction"
   ]
  }
 ],
 "metadata": {
  "kernelspec": {
   "display_name": "venv",
   "language": "python",
   "name": "python3"
  },
  "language_info": {
   "codemirror_mode": {
    "name": "ipython",
    "version": 3
   },
   "file_extension": ".py",
   "mimetype": "text/x-python",
   "name": "python",
   "nbconvert_exporter": "python",
   "pygments_lexer": "ipython3",
   "version": "3.10.11"
  }
 },
 "nbformat": 4,
 "nbformat_minor": 2
}
